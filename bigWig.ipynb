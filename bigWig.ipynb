{
 "metadata": {
  "language_info": {
   "codemirror_mode": {
    "name": "ipython",
    "version": 3
   },
   "file_extension": ".py",
   "mimetype": "text/x-python",
   "name": "python",
   "nbconvert_exporter": "python",
   "pygments_lexer": "ipython3",
   "version": "3.9.2"
  },
  "orig_nbformat": 2,
  "kernelspec": {
   "name": "python392jvsc74a57bd0039ae9052299a00ca345b2a61ff1e8c313eb4ec151c46388c082d0d93573116c",
   "display_name": "Python 3.9.2 64-bit ('pybigwig': conda)"
  },
  "metadata": {
   "interpreter": {
    "hash": "039ae9052299a00ca345b2a61ff1e8c313eb4ec151c46388c082d0d93573116c"
   }
  }
 },
 "nbformat": 4,
 "nbformat_minor": 2,
 "cells": [
  {
   "cell_type": "code",
   "execution_count": 1,
   "metadata": {},
   "outputs": [],
   "source": [
    "import pyBigWig"
   ]
  },
  {
   "source": [
    "# Datos Proyecto Blueprint\n",
    "\n",
    "* Disponibles (206, 16) experimentos de Bisulfite-Seq con formato Methylation signal.\n",
    "    * Análisis con un procedimiento estándar de los datos.\n",
    "        * Mapping.\n",
    "        * Methylation and genotype calling.\n",
    "        * Filtering.\n",
    "        * BigWig files.\n",
    "        * Hyper/Hypo methylated regions.\n",
    "\n",
    "* Se descarga un archivo con formato BigWig, se puede leer con la herramienta pyBigWig.\n",
    "* Los ficheros contienen el *porcentaje?* de metilación para cada dinucleótido CG.\n",
    "\n"
   ],
   "cell_type": "markdown",
   "metadata": {}
  },
  {
   "cell_type": "code",
   "execution_count": 3,
   "metadata": {},
   "outputs": [],
   "source": [
    "#path1 = \"/mnt/Datum/WGBS/data/EGAD00001002322/ERX301127/G202.CPG_methylation_calls.bs_call.GRCh38.20160531.bw\"\n",
    "#path2 = \"/mnt/Datum/WGBS/data/EGAD00001002322/ERX715130/bmPCs-V156.CPG_methylation_calls.bs_call.GRCh38.20160531.bw\"\n",
    "#path3 = \"/mnt/Datum/WGBS/data/EGAD00001002322/ERX1058838/PC_T12_20.CPG_methylation_calls.bs_call.GRCh38.20160531.bw\"\n",
    "#bw1 = pyBigWig.open(path1)\n",
    "#bw2 = pyBigWig.open(path2)\n",
    "#bw3 = pyBigWig.open(path3)"
   ]
  },
  {
   "cell_type": "code",
   "execution_count": 2,
   "metadata": {},
   "outputs": [],
   "source": [
    "path1 = \"/mnt/Datum/WGBS/data/Blueprint/5.1.bw\"\n",
    "path2 = \"/mnt/Datum/WGBS/data/Blueprint/5.2.bw\"\n",
    "path3 = \"/mnt/Datum/WGBS/data/Blueprint/007MCL.bw\"\n",
    "bw1 = pyBigWig.open(path1)\n",
    "bw2 = pyBigWig.open(path2)\n",
    "bw3 = pyBigWig.open(path3)"
   ]
  },
  {
   "source": [
    "bw1.chroms()"
   ],
   "cell_type": "code",
   "metadata": {},
   "execution_count": 3,
   "outputs": [
    {
     "output_type": "execute_result",
     "data": {
      "text/plain": [
       "{'chr1': 248956422,\n",
       " 'chr10': 133797422,\n",
       " 'chr11': 135086622,\n",
       " 'chr12': 133275309,\n",
       " 'chr13': 114364328,\n",
       " 'chr14': 107043718,\n",
       " 'chr15': 101991189,\n",
       " 'chr16': 90338345,\n",
       " 'chr17': 83257441,\n",
       " 'chr18': 80373285,\n",
       " 'chr19': 58617616,\n",
       " 'chr2': 242193529,\n",
       " 'chr20': 64444167,\n",
       " 'chr21': 46709983,\n",
       " 'chr22': 50818468,\n",
       " 'chr3': 198295559,\n",
       " 'chr4': 190214555,\n",
       " 'chr5': 181538259,\n",
       " 'chr6': 170805979,\n",
       " 'chr7': 159345973,\n",
       " 'chr8': 145138636,\n",
       " 'chr9': 138394717,\n",
       " 'chrM': 16569,\n",
       " 'chrX': 156040895,\n",
       " 'chrY': 57227415}"
      ]
     },
     "metadata": {},
     "execution_count": 3
    }
   ]
  },
  {
   "cell_type": "code",
   "execution_count": 4,
   "metadata": {},
   "outputs": [
    {
     "output_type": "execute_result",
     "data": {
      "text/plain": [
       "{'version': 4,\n",
       " 'nLevels': 10,\n",
       " 'nBasesCovered': 37909803,\n",
       " 'minVal': 0,\n",
       " 'maxVal': 1,\n",
       " 'sumData': 34297350,\n",
       " 'sumSquared': 32174370}"
      ]
     },
     "metadata": {},
     "execution_count": 4
    }
   ],
   "source": [
    "bw1.header()"
   ]
  },
  {
   "cell_type": "code",
   "execution_count": 5,
   "metadata": {},
   "outputs": [
    {
     "output_type": "execute_result",
     "data": {
      "text/plain": [
       "{'version': 4,\n",
       " 'nLevels': 10,\n",
       " 'nBasesCovered': 38617634,\n",
       " 'minVal': 0,\n",
       " 'maxVal': 1,\n",
       " 'sumData': 34622695,\n",
       " 'sumSquared': 32192714}"
      ]
     },
     "metadata": {},
     "execution_count": 5
    }
   ],
   "source": [
    "bw2.header()"
   ]
  },
  {
   "cell_type": "code",
   "execution_count": 6,
   "metadata": {},
   "outputs": [
    {
     "output_type": "execute_result",
     "data": {
      "text/plain": [
       "((12264, 12266, 0.6669999957084656),\n",
       " (16242, 16244, 0.75),\n",
       " (20233, 20235, 1.0),\n",
       " (20249, 20251, 0.5),\n",
       " (20252, 20254, 1.0),\n",
       " (20479, 20481, 1.0),\n",
       " (20589, 20591, 1.0),\n",
       " (20699, 20701, 1.0),\n",
       " (24340, 24342, 1.0),\n",
       " (27138, 27140, 1.0),\n",
       " (30570, 30572, 1.0),\n",
       " (30634, 30636, 1.0),\n",
       " (30646, 30648, 1.0),\n",
       " (33244, 33246, 0.75),\n",
       " (33260, 33262, 0.6669999957084656))"
      ]
     },
     "metadata": {},
     "execution_count": 6
    }
   ],
   "source": [
    "bw1.intervals(\"chr1\")[0:15]"
   ]
  },
  {
   "cell_type": "code",
   "execution_count": 7,
   "metadata": {},
   "outputs": [
    {
     "output_type": "execute_result",
     "data": {
      "text/plain": [
       "((13643, 13645, 0.6669999957084656),\n",
       " (16242, 16244, 1.0),\n",
       " (16377, 16379, 0.8889999985694885),\n",
       " (16616, 16618, 1.0),\n",
       " (16618, 16620, 1.0),\n",
       " (16633, 16635, 1.0),\n",
       " (16645, 16647, 1.0),\n",
       " (16664, 16666, 1.0),\n",
       " (16666, 16668, 1.0),\n",
       " (19159, 19161, 1.0),\n",
       " (19188, 19190, 1.0),\n",
       " (19247, 19249, 1.0),\n",
       " (20126, 20128, 1.0),\n",
       " (20128, 20130, 1.0),\n",
       " (20155, 20157, 1.0))"
      ]
     },
     "metadata": {},
     "execution_count": 7
    }
   ],
   "source": [
    "bw2.intervals(\"chr1\")[0:15]"
   ]
  },
  {
   "cell_type": "code",
   "execution_count": 19,
   "metadata": {},
   "outputs": [
    {
     "output_type": "execute_result",
     "data": {
      "text/plain": [
       "((10530, 10532, 0.5),\n",
       " (10541, 10543, 1.0),\n",
       " (10562, 10564, 1.0),\n",
       " (10570, 10572, 1.0),\n",
       " (10576, 10578, 0.6669999957084656),\n",
       " (10578, 10580, 0.6669999957084656),\n",
       " (10588, 10590, 0.6669999957084656),\n",
       " (10608, 10610, 0.6669999957084656),\n",
       " (10616, 10618, 0.6669999957084656),\n",
       " (10619, 10621, 0.6669999957084656),\n",
       " (10622, 10624, 0.6669999957084656),\n",
       " (10630, 10632, 0.6669999957084656),\n",
       " (10632, 10634, 0.6669999957084656),\n",
       " (10635, 10637, 0.6669999957084656),\n",
       " (10637, 10639, 0.6669999957084656))"
      ]
     },
     "metadata": {},
     "execution_count": 19
    }
   ],
   "source": [
    "bw3.intervals(\"chr1\")[0:15]"
   ]
  },
  {
   "cell_type": "code",
   "execution_count": null,
   "metadata": {},
   "outputs": [],
   "source": []
  }
 ]
}